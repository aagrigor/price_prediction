{
 "cells": [
  {
   "cell_type": "code",
   "execution_count": 1,
   "metadata": {},
   "outputs": [],
   "source": [
    "import os\n",
    "import pandas as pd\n",
    "import numpy as np\n",
    "from math import sqrt\n",
    "from os.path import join\n",
    "import matplotlib.pyplot as plt\n",
    "from sklearn.preprocessing import LabelEncoder\n",
    "from sklearn.metrics import mean_squared_error\n",
    "from sklearn.model_selection import train_test_split"
   ]
  },
  {
   "cell_type": "code",
   "execution_count": 2,
   "metadata": {},
   "outputs": [],
   "source": [
    "# define root mean squared error\n",
    "def rmse(y_actual, y_predicted):\n",
    "    return round(sqrt(mean_squared_error(y_actual, y_predicted)), 2)"
   ]
  },
  {
   "cell_type": "code",
   "execution_count": 3,
   "metadata": {},
   "outputs": [],
   "source": [
    "os.chdir(r\"C:\\Users\\arsha\\Projects\\Kaggle\\House_Prices\")\n",
    "train_file_name = \"data\\\\train.csv\"\n",
    "dfTrainData = pd.read_csv(train_file_name)\n",
    "target = dfTrainData.iloc[:, -1]\n",
    "dfData = dfTrainData.iloc[:, :len(dfTrainData.columns) - 1]"
   ]
  },
  {
   "cell_type": "code",
   "execution_count": 4,
   "metadata": {},
   "outputs": [],
   "source": [
    "# Some feature engineering\n",
    "dfData['age_at_sale'] = dfData.YrSold - dfData.YearBuilt\n",
    "dfData['age_at_remodel'] = dfData.YrSold - dfData.YearRemodAdd\n",
    "dfData['age_at_remodel'] = dfData['age_at_remodel'].apply(lambda x: 0 if x < 0 else x)"
   ]
  },
  {
   "cell_type": "code",
   "execution_count": 5,
   "metadata": {},
   "outputs": [],
   "source": [
    "list_of_object_columns = []\n",
    "list_of_numeric_columns = []\n",
    "\n",
    "# separating object column types with others\n",
    "for column in dfData.columns:\n",
    "    if dfData[column].dtype == object:\n",
    "        list_of_object_columns.append(column)\n",
    "    else:\n",
    "        list_of_numeric_columns.append(column)"
   ]
  },
  {
   "cell_type": "code",
   "execution_count": 6,
   "metadata": {},
   "outputs": [],
   "source": [
    "# first processing only numberic columns\n",
    "dfNumerics = dfData[list_of_numeric_columns].copy()"
   ]
  },
  {
   "cell_type": "code",
   "execution_count": 7,
   "metadata": {},
   "outputs": [],
   "source": [
    "dfNumerics.drop([\"Id\"], inplace=True, axis=1)"
   ]
  },
  {
   "cell_type": "code",
   "execution_count": 8,
   "metadata": {},
   "outputs": [],
   "source": [
    "# find columns with missing values\n",
    "list_of_columns_with_missing_values = []\n",
    "list_of_complete_columns = []\n",
    "dict_medians = {}\n",
    "\n",
    "for column in dfNumerics.columns:\n",
    "    dict_medians[column] = dfNumerics[column].median()\n",
    "    bln = dfNumerics[column].isnull().values.any()\n",
    "    if bln:\n",
    "        list_of_columns_with_missing_values.append(column)\n",
    "    else:\n",
    "        list_of_complete_columns.append(column)"
   ]
  },
  {
   "cell_type": "code",
   "execution_count": 9,
   "metadata": {},
   "outputs": [],
   "source": [
    "# impute missing values by the median value of the column\n",
    "for column in list_of_columns_with_missing_values:\n",
    "#     dfNumerics[column] = dfNumerics[column].fillna(dfNumerics[column].median())\n",
    "    dfNumerics[column] = dfNumerics[column].fillna(dict_medians[column])"
   ]
  },
  {
   "cell_type": "code",
   "execution_count": 10,
   "metadata": {},
   "outputs": [],
   "source": [
    "# here we will work only with object column types\n",
    "dfCategorical = dfData.select_dtypes(include=['object']).copy()"
   ]
  },
  {
   "cell_type": "code",
   "execution_count": 11,
   "metadata": {},
   "outputs": [],
   "source": [
    "# drop categorical columns that have too many of the same value, 95% or more\n",
    "list_cat_columns_to_drop = []\n",
    "ttl_number_of_rows = dfCategorical.shape[0]\n",
    "\n",
    "for column in dfCategorical.columns:\n",
    "    d = dfCategorical[column].value_counts()\n",
    "    number_of_categories = d.shape[0]\n",
    "    \n",
    "    # checking the number of missing values\n",
    "    number_missing_values = dfCategorical[column].isnull().sum()\n",
    "    if number_missing_values / ttl_number_of_rows > 0.9:\n",
    "        list_cat_columns_to_drop.append(column)\n",
    "        continue\n",
    "    \n",
    "    # if there is only one category in the column, we do not really need it\n",
    "    if number_of_categories < 2:\n",
    "        list_cat_columns_to_drop.append(column)\n",
    "        continue\n",
    "        \n",
    "    # checking if one of the categories has more than 95 of rows\n",
    "    for i in range(number_of_categories):\n",
    "        if d[i] / ttl_number_of_rows > 0.95:\n",
    "            list_cat_columns_to_drop.append(column)\n",
    "            break\n",
    "            \n",
    "list_cat_columns_to_keep = [c for c in list(dfCategorical.columns) if c not in list_cat_columns_to_drop]   "
   ]
  },
  {
   "cell_type": "code",
   "execution_count": 12,
   "metadata": {},
   "outputs": [],
   "source": [
    "# drop columns with too many missing values or with only unique values\n",
    "dfCategorical.drop(list_cat_columns_to_drop, axis=1, inplace=True)"
   ]
  },
  {
   "cell_type": "code",
   "execution_count": 13,
   "metadata": {},
   "outputs": [],
   "source": [
    "# converting categorical columns into numeric and renaming column names by adding _cat at the end of the column name\n",
    "old_categorical_column_names = dfCategorical.columns\n",
    "for column in dfCategorical.columns:\n",
    "    dfCategorical[column] = dfCategorical[column].astype('category')\n",
    "    new_column_name = column + \"_cat\"\n",
    "    dfCategorical[new_column_name] = dfCategorical[column].cat.codes\n",
    "    \n",
    "# adding one to get rid of -1's that are assigned to NA values\n",
    "dfCategoricalNew = dfCategorical.drop(old_categorical_column_names, axis = 1).copy()\n",
    "dfCategoricalNew = dfCategoricalNew + 1"
   ]
  },
  {
   "cell_type": "code",
   "execution_count": 14,
   "metadata": {},
   "outputs": [],
   "source": [
    "# combining numberic and categorical columns\n",
    "X = pd.concat([dfNumerics, dfCategoricalNew], axis=1)"
   ]
  },
  {
   "cell_type": "code",
   "execution_count": 15,
   "metadata": {},
   "outputs": [],
   "source": [
    "COLUMN_MASTER_LIST_TO_KEEP = X.columns"
   ]
  },
  {
   "cell_type": "code",
   "execution_count": 16,
   "metadata": {},
   "outputs": [],
   "source": [
    "# creating interactions for numeric variables\n",
    "from sklearn.preprocessing import PolynomialFeatures\n",
    "pf = PolynomialFeatures(2, interaction_only=True, include_bias=False)\n",
    "\n",
    "number_ndarray_with_interactions = pf.fit_transform(X)\n",
    "column_names_with_interactions = list(pf.get_feature_names(X.columns))\n",
    "\n",
    "dfAllInteractions = pd.DataFrame(number_ndarray_with_interactions)\n",
    "dfAllInteractions.columns = column_names_with_interactions"
   ]
  },
  {
   "cell_type": "code",
   "execution_count": 17,
   "metadata": {},
   "outputs": [],
   "source": [
    "# creating training and test sets\n",
    "X_train, X_test, y_train, y_test = train_test_split(dfAllInteractions, target, test_size=0.2, random_state=191)"
   ]
  },
  {
   "cell_type": "code",
   "execution_count": null,
   "metadata": {},
   "outputs": [],
   "source": []
  },
  {
   "cell_type": "markdown",
   "metadata": {},
   "source": [
    "## Random Forest Regressor"
   ]
  },
  {
   "cell_type": "code",
   "execution_count": 20,
   "metadata": {},
   "outputs": [],
   "source": [
    "from sklearn.ensemble import RandomForestRegressor\n",
    "from sklearn.model_selection import GridSearchCV"
   ]
  },
  {
   "cell_type": "code",
   "execution_count": 21,
   "metadata": {},
   "outputs": [],
   "source": [
    "rf_regr = RandomForestRegressor(n_estimators=25)"
   ]
  },
  {
   "cell_type": "code",
   "execution_count": 22,
   "metadata": {},
   "outputs": [],
   "source": [
    "param_grid = {\n",
    "    'n_estimators': [50, 100, 150],\n",
    "    'max_depth': [5, 10, 15],\n",
    "    'n_jobs': [-1]\n",
    "}"
   ]
  },
  {
   "cell_type": "code",
   "execution_count": 23,
   "metadata": {},
   "outputs": [],
   "source": [
    "grid_search = GridSearchCV(rf_regr, param_grid=param_grid, return_train_score=True)"
   ]
  },
  {
   "cell_type": "code",
   "execution_count": 24,
   "metadata": {},
   "outputs": [
    {
     "data": {
      "text/plain": [
       "GridSearchCV(cv=None, error_score='raise',\n",
       "       estimator=RandomForestRegressor(bootstrap=True, criterion='mse', max_depth=None,\n",
       "           max_features='auto', max_leaf_nodes=None,\n",
       "           min_impurity_decrease=0.0, min_impurity_split=None,\n",
       "           min_samples_leaf=1, min_samples_split=2,\n",
       "           min_weight_fraction_leaf=0.0, n_estimators=25, n_jobs=1,\n",
       "           oob_score=False, random_state=None, verbose=0, warm_start=False),\n",
       "       fit_params=None, iid=True, n_jobs=1,\n",
       "       param_grid={'n_estimators': [50, 100, 150], 'max_depth': [5, 10, 15], 'n_jobs': [-1]},\n",
       "       pre_dispatch='2*n_jobs', refit=True, return_train_score=True,\n",
       "       scoring=None, verbose=0)"
      ]
     },
     "execution_count": 24,
     "metadata": {},
     "output_type": "execute_result"
    }
   ],
   "source": [
    "grid_search.fit(X_train, y_train)"
   ]
  },
  {
   "cell_type": "code",
   "execution_count": 25,
   "metadata": {},
   "outputs": [
    {
     "data": {
      "text/plain": [
       "24435.36"
      ]
     },
     "execution_count": 25,
     "metadata": {},
     "output_type": "execute_result"
    }
   ],
   "source": [
    "# grid_search.cv_results_ (24355.24)\n",
    "rmse(y_test, grid_search.predict(X_test))"
   ]
  },
  {
   "cell_type": "markdown",
   "metadata": {},
   "source": [
    "## Support Vector Regressor"
   ]
  },
  {
   "cell_type": "code",
   "execution_count": 31,
   "metadata": {},
   "outputs": [
    {
     "data": {
      "text/plain": [
       "SVR(C=1.0, cache_size=200, coef0=0.0, degree=3, epsilon=0.1, gamma='auto',\n",
       "  kernel='rbf', max_iter=-1, shrinking=True, tol=0.001, verbose=False)"
      ]
     },
     "execution_count": 31,
     "metadata": {},
     "output_type": "execute_result"
    }
   ],
   "source": [
    "from sklearn.svm import SVR\n",
    "sv_regr = SVR()\n",
    "sv_regr.fit(X_train, y_train)"
   ]
  },
  {
   "cell_type": "code",
   "execution_count": 32,
   "metadata": {},
   "outputs": [
    {
     "data": {
      "text/plain": [
       "78222.41"
      ]
     },
     "execution_count": 32,
     "metadata": {},
     "output_type": "execute_result"
    }
   ],
   "source": [
    "rmse(y_test, sv_regr.predict(X_test))"
   ]
  },
  {
   "cell_type": "code",
   "execution_count": null,
   "metadata": {},
   "outputs": [],
   "source": []
  },
  {
   "cell_type": "markdown",
   "metadata": {},
   "source": [
    "## XGBOOST"
   ]
  },
  {
   "cell_type": "code",
   "execution_count": 19,
   "metadata": {},
   "outputs": [],
   "source": [
    "from xgboost import XGBRegressor"
   ]
  },
  {
   "cell_type": "code",
   "execution_count": 20,
   "metadata": {},
   "outputs": [],
   "source": [
    "xgb_regr = XGBRegressor()"
   ]
  },
  {
   "cell_type": "code",
   "execution_count": 84,
   "metadata": {},
   "outputs": [],
   "source": [
    "param_test = {\n",
    "    'max_depth': range(5,8,2),\n",
    "    'min_child_weight':range(3,6,2)\n",
    "}"
   ]
  },
  {
   "cell_type": "code",
   "execution_count": 85,
   "metadata": {},
   "outputs": [],
   "source": [
    "gridSearch1 = GridSearchCV(estimator=XGBRegressor(learning_rate =0.1, n_estimators=125, max_depth=5,\n",
    " min_child_weight=1, gamma=0, subsample=0.9, colsample_bytree=0.8, nthread=4, scale_pos_weight=1, seed=27), \n",
    " param_grid = param_test, scoring='neg_mean_squared_error',n_jobs=4,iid=False, cv=5)"
   ]
  },
  {
   "cell_type": "code",
   "execution_count": 86,
   "metadata": {},
   "outputs": [
    {
     "data": {
      "text/plain": [
       "GridSearchCV(cv=5, error_score='raise',\n",
       "       estimator=XGBRegressor(base_score=0.5, booster='gbtree', colsample_bylevel=1,\n",
       "       colsample_bytree=0.8, gamma=0, learning_rate=0.1, max_delta_step=0,\n",
       "       max_depth=5, min_child_weight=1, missing=None, n_estimators=125,\n",
       "       n_jobs=1, nthread=4, objective='reg:linear', random_state=0,\n",
       "       reg_alpha=0, reg_lambda=1, scale_pos_weight=1, seed=27, silent=True,\n",
       "       subsample=0.9),\n",
       "       fit_params=None, iid=False, n_jobs=4,\n",
       "       param_grid={'max_depth': range(5, 8, 2), 'min_child_weight': range(3, 6, 2)},\n",
       "       pre_dispatch='2*n_jobs', refit=True, return_train_score='warn',\n",
       "       scoring='neg_mean_squared_error', verbose=0)"
      ]
     },
     "execution_count": 86,
     "metadata": {},
     "output_type": "execute_result"
    }
   ],
   "source": [
    "gridSearch1.fit(X_train, y_train)"
   ]
  },
  {
   "cell_type": "code",
   "execution_count": 88,
   "metadata": {},
   "outputs": [
    {
     "data": {
      "text/plain": [
       "21272.21"
      ]
     },
     "execution_count": 88,
     "metadata": {},
     "output_type": "execute_result"
    }
   ],
   "source": [
    "rmse(y_test, gridSearch1.predict(X_test))"
   ]
  },
  {
   "cell_type": "markdown",
   "metadata": {},
   "source": [
    "# Scoring the test dataset"
   ]
  },
  {
   "cell_type": "code",
   "execution_count": 44,
   "metadata": {},
   "outputs": [],
   "source": [
    "# scoring the test dataset\n",
    "test_filename = 'data\\\\test.csv'\n",
    "dfTest = pd.read_csv(open(test_filename))\n",
    "\n",
    "dfTest['age_at_sale'] = dfTest.YrSold - dfTest.YearBuilt\n",
    "dfTest['age_at_remodel'] = dfTest.YrSold - dfTest.YearRemodAdd\n",
    "dfTest['age_at_remodel'] = dfTest['age_at_remodel'].apply(lambda x: 0 if x < 0 else x)"
   ]
  },
  {
   "cell_type": "code",
   "execution_count": 45,
   "metadata": {},
   "outputs": [],
   "source": [
    "# list_of_object_columns\n",
    "dfTestNumeric = dfTest[list_of_numeric_columns]"
   ]
  },
  {
   "cell_type": "code",
   "execution_count": 46,
   "metadata": {},
   "outputs": [
    {
     "name": "stderr",
     "output_type": "stream",
     "text": [
      "C:\\Users\\arsha\\Anaconda3\\lib\\site-packages\\pandas\\core\\frame.py:3694: SettingWithCopyWarning: \n",
      "A value is trying to be set on a copy of a slice from a DataFrame\n",
      "\n",
      "See the caveats in the documentation: http://pandas.pydata.org/pandas-docs/stable/indexing.html#indexing-view-versus-copy\n",
      "  errors=errors)\n"
     ]
    }
   ],
   "source": [
    "dfTestNumeric.drop([\"Id\"], inplace=True, axis=1)"
   ]
  },
  {
   "cell_type": "code",
   "execution_count": 47,
   "metadata": {},
   "outputs": [
    {
     "name": "stderr",
     "output_type": "stream",
     "text": [
      "C:\\Users\\arsha\\Anaconda3\\lib\\site-packages\\ipykernel_launcher.py:3: SettingWithCopyWarning: \n",
      "A value is trying to be set on a copy of a slice from a DataFrame.\n",
      "Try using .loc[row_indexer,col_indexer] = value instead\n",
      "\n",
      "See the caveats in the documentation: http://pandas.pydata.org/pandas-docs/stable/indexing.html#indexing-view-versus-copy\n",
      "  This is separate from the ipykernel package so we can avoid doing imports until\n"
     ]
    }
   ],
   "source": [
    "for column in dict_medians.keys():\n",
    "    if dfTestNumeric[column].isnull().values.any():\n",
    "        dfTestNumeric[column] = dfTestNumeric[column].fillna(dict_medians[column])"
   ]
  },
  {
   "cell_type": "code",
   "execution_count": 48,
   "metadata": {},
   "outputs": [],
   "source": [
    "dfTestCat = dfTest[list_cat_columns_to_keep]"
   ]
  },
  {
   "cell_type": "code",
   "execution_count": 49,
   "metadata": {},
   "outputs": [
    {
     "name": "stderr",
     "output_type": "stream",
     "text": [
      "C:\\Users\\arsha\\Anaconda3\\lib\\site-packages\\ipykernel_launcher.py:4: SettingWithCopyWarning: \n",
      "A value is trying to be set on a copy of a slice from a DataFrame.\n",
      "Try using .loc[row_indexer,col_indexer] = value instead\n",
      "\n",
      "See the caveats in the documentation: http://pandas.pydata.org/pandas-docs/stable/indexing.html#indexing-view-versus-copy\n",
      "  after removing the cwd from sys.path.\n",
      "C:\\Users\\arsha\\Anaconda3\\lib\\site-packages\\ipykernel_launcher.py:6: SettingWithCopyWarning: \n",
      "A value is trying to be set on a copy of a slice from a DataFrame.\n",
      "Try using .loc[row_indexer,col_indexer] = value instead\n",
      "\n",
      "See the caveats in the documentation: http://pandas.pydata.org/pandas-docs/stable/indexing.html#indexing-view-versus-copy\n",
      "  \n"
     ]
    }
   ],
   "source": [
    "# converting categorical columns into numeric and renaming column names by adding _cat at the end of the column name\n",
    "old_categorical_column_names = dfTestCat.columns\n",
    "for column in dfTestCat.columns:\n",
    "    dfTestCat[column] = dfTestCat[column].astype('category')\n",
    "    new_column_name = column + \"_cat\"\n",
    "    dfTestCat[new_column_name] = dfTestCat[column].cat.codes\n"
   ]
  },
  {
   "cell_type": "code",
   "execution_count": 50,
   "metadata": {},
   "outputs": [],
   "source": [
    "# adding one to get rid of -1's that are assigned to NA values\n",
    "dfTestCatNew = dfTestCat.drop(old_categorical_column_names, axis = 1).copy()\n",
    "dfTestCatNew = dfTestCatNew + 1"
   ]
  },
  {
   "cell_type": "code",
   "execution_count": 51,
   "metadata": {},
   "outputs": [],
   "source": [
    "Xtest = pd.concat([dfTestNumeric, dfTestCatNew], axis=1)"
   ]
  },
  {
   "cell_type": "code",
   "execution_count": 52,
   "metadata": {},
   "outputs": [],
   "source": [
    "dfForScore = Xtest[COLUMN_MASTER_LIST_TO_KEEP].copy()"
   ]
  },
  {
   "cell_type": "code",
   "execution_count": 53,
   "metadata": {},
   "outputs": [],
   "source": [
    "# creating interactions for numeric variables\n",
    "from sklearn.preprocessing import PolynomialFeatures\n",
    "pf = PolynomialFeatures(2, interaction_only=True, include_bias=False)"
   ]
  },
  {
   "cell_type": "code",
   "execution_count": 54,
   "metadata": {},
   "outputs": [],
   "source": [
    "number_ndarray_with_interactions = pf.fit_transform(dfForScore)\n",
    "column_names_with_interactions = list(pf.get_feature_names(Xtest.columns))"
   ]
  },
  {
   "cell_type": "code",
   "execution_count": 55,
   "metadata": {},
   "outputs": [],
   "source": [
    "dfForScoreAll = pd.DataFrame(number_ndarray_with_interactions)\n",
    "dfForScoreAll.columns = column_names_with_interactions"
   ]
  },
  {
   "cell_type": "code",
   "execution_count": 40,
   "metadata": {},
   "outputs": [],
   "source": [
    "LIST_OF_SCORE_COLUMNS = list(dfForScoreAll.columns)"
   ]
  },
  {
   "cell_type": "code",
   "execution_count": 43,
   "metadata": {},
   "outputs": [],
   "source": [
    "f = open(\"test_columns.csv\", \"w\")\n",
    "for idx, column in enumerate(list(dfForScoreAll.columns)):\n",
    "    s = str(idx) + \",\" + list(dfForScoreAll.columns)[idx] + \",\" + list(dfAllInteractions.columns)[idx] + \"\\n\"\n",
    "    f.write(s)\n",
    "f.close()"
   ]
  },
  {
   "cell_type": "code",
   "execution_count": 96,
   "metadata": {},
   "outputs": [],
   "source": [
    "predicted_prices = gridSearch1.predict(dfForScoreAll)"
   ]
  },
  {
   "cell_type": "code",
   "execution_count": 97,
   "metadata": {},
   "outputs": [],
   "source": [
    "dfPredictedPrices = pd.DataFrame(predicted_prices)\n",
    "dfPredictedPrices.columns = ['PredictedPrice']"
   ]
  },
  {
   "cell_type": "code",
   "execution_count": 98,
   "metadata": {},
   "outputs": [],
   "source": [
    "dfFinal = pd.concat([dfTest, dfPredictedPrices], axis=1)"
   ]
  },
  {
   "cell_type": "code",
   "execution_count": 99,
   "metadata": {},
   "outputs": [],
   "source": [
    "dfFinal.to_csv(\"data\\\\predicted_prices1.csv\", index=False)"
   ]
  },
  {
   "cell_type": "code",
   "execution_count": null,
   "metadata": {},
   "outputs": [],
   "source": []
  },
  {
   "cell_type": "code",
   "execution_count": null,
   "metadata": {},
   "outputs": [],
   "source": []
  },
  {
   "cell_type": "code",
   "execution_count": null,
   "metadata": {},
   "outputs": [],
   "source": []
  },
  {
   "cell_type": "code",
   "execution_count": 86,
   "metadata": {},
   "outputs": [],
   "source": [
    "dfYTestActual = y_test.to_frame()\n",
    "\n",
    "dfYTestPredicted = pd.DataFrame(xgb_regr.predict(X_test))\n",
    "dfYTestPredicted.columns = ['predicted']\n",
    "dfYTestActual.columns = ['actual']\n",
    "dfYTestPredicted['predicted'] = dfYTestPredicted['predicted'].apply(lambda x: round(x, 0))"
   ]
  },
  {
   "cell_type": "code",
   "execution_count": 87,
   "metadata": {},
   "outputs": [],
   "source": [
    "list_actual_y = list(y_test)\n",
    "list_predicted_y = list(xgb_regr.predict(X_test))"
   ]
  },
  {
   "cell_type": "code",
   "execution_count": 88,
   "metadata": {},
   "outputs": [],
   "source": [
    "dfY_actual = pd.Series(list_actual_y).to_frame()\n",
    "dfY_pred = pd.Series(list_predicted_y).to_frame()"
   ]
  },
  {
   "cell_type": "code",
   "execution_count": 89,
   "metadata": {},
   "outputs": [],
   "source": [
    "dfY = pd.concat([dfY_actual, dfY_pred], axis=1)\n",
    "dfY.columns = ['actual', 'predicted']\n",
    "dfY['predicted'] = dfY['predicted'].apply(lambda x: round(x, 1))\n",
    "dfY['diff'] = dfY['predicted'] - dfY['actual']"
   ]
  },
  {
   "cell_type": "code",
   "execution_count": 90,
   "metadata": {},
   "outputs": [
    {
     "data": {
      "image/png": "[encoded data removed]",
      "text/plain": [
       "<Figure size 432x288 with 1 Axes>"
      ]
     },
     "metadata": {},
     "output_type": "display_data"
    }
   ],
   "source": [
    "dfY.plot(kind=\"line\")\n",
    "plt.show()"
   ]
  }
 ],
 "metadata": {
  "anaconda-cloud": {},
  "kernelspec": {
   "display_name": "Python 3",
   "language": "python",
   "name": "python3"
  },
  "language_info": {
   "codemirror_mode": {
    "name": "ipython",
    "version": 3
   },
   "file_extension": ".py",
   "mimetype": "text/x-python",
   "name": "python",
   "nbconvert_exporter": "python",
   "pygments_lexer": "ipython3",
   "version": "3.6.5"
  }
 },
 "nbformat": 4,
 "nbformat_minor": 1
}
